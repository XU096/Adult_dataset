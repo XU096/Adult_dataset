{
 "cells": [
  {
   "cell_type": "markdown",
   "metadata": {},
   "source": [
    "# KNN prediction"
   ]
  },
  {
   "cell_type": "markdown",
   "metadata": {},
   "source": [
    "Import useful packages"
   ]
  },
  {
   "cell_type": "code",
   "execution_count": 1,
   "metadata": {},
   "outputs": [],
   "source": [
    "import pandas as pd\n",
    "import numpy as np\n",
    "\n",
    "from sklearn.model_selection import train_test_split\n",
    "from sklearn.neighbors import KNeighborsClassifier\n",
    "from sklearn.metrics import confusion_matrix, classification_report\n",
    "\n",
    "import matplotlib.pyplot as plt\n",
    "%matplotlib inline"
   ]
  },
  {
   "cell_type": "markdown",
   "metadata": {},
   "source": [
    "Read the data "
   ]
  },
  {
   "cell_type": "code",
   "execution_count": 2,
   "metadata": {},
   "outputs": [],
   "source": [
    "df = pd.read_csv('clean_data.csv')"
   ]
  },
  {
   "cell_type": "code",
   "execution_count": 3,
   "metadata": {},
   "outputs": [
    {
     "data": {
      "text/html": [
       "<div>\n",
       "<style scoped>\n",
       "    .dataframe tbody tr th:only-of-type {\n",
       "        vertical-align: middle;\n",
       "    }\n",
       "\n",
       "    .dataframe tbody tr th {\n",
       "        vertical-align: top;\n",
       "    }\n",
       "\n",
       "    .dataframe thead th {\n",
       "        text-align: right;\n",
       "    }\n",
       "</style>\n",
       "<table border=\"1\" class=\"dataframe\">\n",
       "  <thead>\n",
       "    <tr style=\"text-align: right;\">\n",
       "      <th></th>\n",
       "      <th>age</th>\n",
       "      <th>workclass</th>\n",
       "      <th>fnlwgt</th>\n",
       "      <th>education</th>\n",
       "      <th>education-num</th>\n",
       "      <th>marital-status</th>\n",
       "      <th>occupation</th>\n",
       "      <th>relationship</th>\n",
       "      <th>race</th>\n",
       "      <th>sex</th>\n",
       "      <th>capital-gain</th>\n",
       "      <th>capital-loss</th>\n",
       "      <th>hours-per-week</th>\n",
       "      <th>native-country</th>\n",
       "      <th>target</th>\n",
       "    </tr>\n",
       "  </thead>\n",
       "  <tbody>\n",
       "    <tr>\n",
       "      <th>0</th>\n",
       "      <td>50</td>\n",
       "      <td>Self-emp-not-inc</td>\n",
       "      <td>83311</td>\n",
       "      <td>Bachelors</td>\n",
       "      <td>13</td>\n",
       "      <td>Married-civ-spouse</td>\n",
       "      <td>Exec-managerial</td>\n",
       "      <td>Husband</td>\n",
       "      <td>White</td>\n",
       "      <td>Male</td>\n",
       "      <td>0</td>\n",
       "      <td>0</td>\n",
       "      <td>13</td>\n",
       "      <td>United-States</td>\n",
       "      <td>0</td>\n",
       "    </tr>\n",
       "    <tr>\n",
       "      <th>1</th>\n",
       "      <td>38</td>\n",
       "      <td>Private</td>\n",
       "      <td>215646</td>\n",
       "      <td>HS-grad</td>\n",
       "      <td>9</td>\n",
       "      <td>Divorced</td>\n",
       "      <td>Handlers-cleaners</td>\n",
       "      <td>Not-in-family</td>\n",
       "      <td>White</td>\n",
       "      <td>Male</td>\n",
       "      <td>0</td>\n",
       "      <td>0</td>\n",
       "      <td>40</td>\n",
       "      <td>United-States</td>\n",
       "      <td>0</td>\n",
       "    </tr>\n",
       "    <tr>\n",
       "      <th>2</th>\n",
       "      <td>53</td>\n",
       "      <td>Private</td>\n",
       "      <td>234721</td>\n",
       "      <td>11th</td>\n",
       "      <td>7</td>\n",
       "      <td>Married-civ-spouse</td>\n",
       "      <td>Handlers-cleaners</td>\n",
       "      <td>Husband</td>\n",
       "      <td>Black</td>\n",
       "      <td>Male</td>\n",
       "      <td>0</td>\n",
       "      <td>0</td>\n",
       "      <td>40</td>\n",
       "      <td>United-States</td>\n",
       "      <td>0</td>\n",
       "    </tr>\n",
       "    <tr>\n",
       "      <th>3</th>\n",
       "      <td>28</td>\n",
       "      <td>Private</td>\n",
       "      <td>338409</td>\n",
       "      <td>Bachelors</td>\n",
       "      <td>13</td>\n",
       "      <td>Married-civ-spouse</td>\n",
       "      <td>Prof-specialty</td>\n",
       "      <td>Wife</td>\n",
       "      <td>Black</td>\n",
       "      <td>Female</td>\n",
       "      <td>0</td>\n",
       "      <td>0</td>\n",
       "      <td>40</td>\n",
       "      <td>Cuba</td>\n",
       "      <td>0</td>\n",
       "    </tr>\n",
       "    <tr>\n",
       "      <th>4</th>\n",
       "      <td>37</td>\n",
       "      <td>Private</td>\n",
       "      <td>284582</td>\n",
       "      <td>Masters</td>\n",
       "      <td>14</td>\n",
       "      <td>Married-civ-spouse</td>\n",
       "      <td>Exec-managerial</td>\n",
       "      <td>Wife</td>\n",
       "      <td>White</td>\n",
       "      <td>Female</td>\n",
       "      <td>0</td>\n",
       "      <td>0</td>\n",
       "      <td>40</td>\n",
       "      <td>United-States</td>\n",
       "      <td>0</td>\n",
       "    </tr>\n",
       "  </tbody>\n",
       "</table>\n",
       "</div>"
      ],
      "text/plain": [
       "   age         workclass  fnlwgt  education  education-num  \\\n",
       "0   50  Self-emp-not-inc   83311  Bachelors             13   \n",
       "1   38           Private  215646    HS-grad              9   \n",
       "2   53           Private  234721       11th              7   \n",
       "3   28           Private  338409  Bachelors             13   \n",
       "4   37           Private  284582    Masters             14   \n",
       "\n",
       "       marital-status         occupation   relationship   race     sex  \\\n",
       "0  Married-civ-spouse    Exec-managerial        Husband  White    Male   \n",
       "1            Divorced  Handlers-cleaners  Not-in-family  White    Male   \n",
       "2  Married-civ-spouse  Handlers-cleaners        Husband  Black    Male   \n",
       "3  Married-civ-spouse     Prof-specialty           Wife  Black  Female   \n",
       "4  Married-civ-spouse    Exec-managerial           Wife  White  Female   \n",
       "\n",
       "   capital-gain  capital-loss  hours-per-week native-country  target  \n",
       "0             0             0              13  United-States       0  \n",
       "1             0             0              40  United-States       0  \n",
       "2             0             0              40  United-States       0  \n",
       "3             0             0              40           Cuba       0  \n",
       "4             0             0              40  United-States       0  "
      ]
     },
     "execution_count": 3,
     "metadata": {},
     "output_type": "execute_result"
    }
   ],
   "source": [
    "df.head()"
   ]
  },
  {
   "cell_type": "markdown",
   "metadata": {},
   "source": [
    "<br />\n",
    "<br />"
   ]
  },
  {
   "cell_type": "markdown",
   "metadata": {},
   "source": [
    "## Process the categorical features. "
   ]
  },
  {
   "cell_type": "code",
   "execution_count": 4,
   "metadata": {},
   "outputs": [],
   "source": [
    "cols = df.columns\n",
    "num_cols = df._get_numeric_data().columns\n",
    "cat_cols = list(set(cols) - set(num_cols))"
   ]
  },
  {
   "cell_type": "code",
   "execution_count": null,
   "metadata": {},
   "outputs": [],
   "source": []
  },
  {
   "cell_type": "markdown",
   "metadata": {},
   "source": [
    "Check how many unique values in each categorical features"
   ]
  },
  {
   "cell_type": "code",
   "execution_count": 5,
   "metadata": {},
   "outputs": [
    {
     "name": "stdout",
     "output_type": "stream",
     "text": [
      "education: 16\n",
      "occupation: 14\n",
      "race: 5\n",
      "relationship: 6\n",
      "sex: 2\n",
      "marital-status: 7\n",
      "workclass: 7\n",
      "native-country: 41\n"
     ]
    }
   ],
   "source": [
    "for column in cat_cols:\n",
    "    print(column + ': ' + str(df[column].nunique()))"
   ]
  },
  {
   "cell_type": "markdown",
   "metadata": {},
   "source": [
    "Here the native-country features have over 40 different values. That's too much to beconsidered as a categorical feature. We may drop this column.<br/>\n",
    "We may drop education column as well as we mentioned in data prepare notebook that the education and education-num columns are redundant. "
   ]
  },
  {
   "cell_type": "markdown",
   "metadata": {},
   "source": [
    "Now we shold convert these columns in to nemurical features use one-hot encoding"
   ]
  },
  {
   "cell_type": "code",
   "execution_count": 6,
   "metadata": {},
   "outputs": [],
   "source": [
    "work = pd.get_dummies(df['workclass'],drop_first=True)\n",
    "#education = pd.get_dummies(df['education'],drop_first=True)\n",
    "marital = pd.get_dummies(df['marital-status'],drop_first=True)\n",
    "occupation = pd.get_dummies(df['occupation'],drop_first=True) \n",
    "relation = pd.get_dummies(df['relationship'],drop_first=True)\n",
    "race = pd.get_dummies(df['race'],drop_first=True)\n",
    "sex = pd.get_dummies(df['sex'],drop_first=True)"
   ]
  },
  {
   "cell_type": "markdown",
   "metadata": {},
   "source": [
    "Concat the encoded columns in to the dataframe"
   ]
  },
  {
   "cell_type": "code",
   "execution_count": 7,
   "metadata": {},
   "outputs": [],
   "source": [
    "new_data = pd.concat([df, work, marital, occupation, relation, race, sex], axis = 1)"
   ]
  },
  {
   "cell_type": "code",
   "execution_count": 8,
   "metadata": {},
   "outputs": [
    {
     "data": {
      "text/html": [
       "<div>\n",
       "<style scoped>\n",
       "    .dataframe tbody tr th:only-of-type {\n",
       "        vertical-align: middle;\n",
       "    }\n",
       "\n",
       "    .dataframe tbody tr th {\n",
       "        vertical-align: top;\n",
       "    }\n",
       "\n",
       "    .dataframe thead th {\n",
       "        text-align: right;\n",
       "    }\n",
       "</style>\n",
       "<table border=\"1\" class=\"dataframe\">\n",
       "  <thead>\n",
       "    <tr style=\"text-align: right;\">\n",
       "      <th></th>\n",
       "      <th>age</th>\n",
       "      <th>workclass</th>\n",
       "      <th>fnlwgt</th>\n",
       "      <th>education</th>\n",
       "      <th>education-num</th>\n",
       "      <th>marital-status</th>\n",
       "      <th>occupation</th>\n",
       "      <th>relationship</th>\n",
       "      <th>race</th>\n",
       "      <th>sex</th>\n",
       "      <th>...</th>\n",
       "      <th>Not-in-family</th>\n",
       "      <th>Other-relative</th>\n",
       "      <th>Own-child</th>\n",
       "      <th>Unmarried</th>\n",
       "      <th>Wife</th>\n",
       "      <th>Asian-Pac-Islander</th>\n",
       "      <th>Black</th>\n",
       "      <th>Other</th>\n",
       "      <th>White</th>\n",
       "      <th>Male</th>\n",
       "    </tr>\n",
       "  </thead>\n",
       "  <tbody>\n",
       "    <tr>\n",
       "      <th>0</th>\n",
       "      <td>50</td>\n",
       "      <td>Self-emp-not-inc</td>\n",
       "      <td>83311</td>\n",
       "      <td>Bachelors</td>\n",
       "      <td>13</td>\n",
       "      <td>Married-civ-spouse</td>\n",
       "      <td>Exec-managerial</td>\n",
       "      <td>Husband</td>\n",
       "      <td>White</td>\n",
       "      <td>Male</td>\n",
       "      <td>...</td>\n",
       "      <td>0</td>\n",
       "      <td>0</td>\n",
       "      <td>0</td>\n",
       "      <td>0</td>\n",
       "      <td>0</td>\n",
       "      <td>0</td>\n",
       "      <td>0</td>\n",
       "      <td>0</td>\n",
       "      <td>1</td>\n",
       "      <td>1</td>\n",
       "    </tr>\n",
       "    <tr>\n",
       "      <th>1</th>\n",
       "      <td>38</td>\n",
       "      <td>Private</td>\n",
       "      <td>215646</td>\n",
       "      <td>HS-grad</td>\n",
       "      <td>9</td>\n",
       "      <td>Divorced</td>\n",
       "      <td>Handlers-cleaners</td>\n",
       "      <td>Not-in-family</td>\n",
       "      <td>White</td>\n",
       "      <td>Male</td>\n",
       "      <td>...</td>\n",
       "      <td>1</td>\n",
       "      <td>0</td>\n",
       "      <td>0</td>\n",
       "      <td>0</td>\n",
       "      <td>0</td>\n",
       "      <td>0</td>\n",
       "      <td>0</td>\n",
       "      <td>0</td>\n",
       "      <td>1</td>\n",
       "      <td>1</td>\n",
       "    </tr>\n",
       "    <tr>\n",
       "      <th>2</th>\n",
       "      <td>53</td>\n",
       "      <td>Private</td>\n",
       "      <td>234721</td>\n",
       "      <td>11th</td>\n",
       "      <td>7</td>\n",
       "      <td>Married-civ-spouse</td>\n",
       "      <td>Handlers-cleaners</td>\n",
       "      <td>Husband</td>\n",
       "      <td>Black</td>\n",
       "      <td>Male</td>\n",
       "      <td>...</td>\n",
       "      <td>0</td>\n",
       "      <td>0</td>\n",
       "      <td>0</td>\n",
       "      <td>0</td>\n",
       "      <td>0</td>\n",
       "      <td>0</td>\n",
       "      <td>1</td>\n",
       "      <td>0</td>\n",
       "      <td>0</td>\n",
       "      <td>1</td>\n",
       "    </tr>\n",
       "    <tr>\n",
       "      <th>3</th>\n",
       "      <td>28</td>\n",
       "      <td>Private</td>\n",
       "      <td>338409</td>\n",
       "      <td>Bachelors</td>\n",
       "      <td>13</td>\n",
       "      <td>Married-civ-spouse</td>\n",
       "      <td>Prof-specialty</td>\n",
       "      <td>Wife</td>\n",
       "      <td>Black</td>\n",
       "      <td>Female</td>\n",
       "      <td>...</td>\n",
       "      <td>0</td>\n",
       "      <td>0</td>\n",
       "      <td>0</td>\n",
       "      <td>0</td>\n",
       "      <td>1</td>\n",
       "      <td>0</td>\n",
       "      <td>1</td>\n",
       "      <td>0</td>\n",
       "      <td>0</td>\n",
       "      <td>0</td>\n",
       "    </tr>\n",
       "    <tr>\n",
       "      <th>4</th>\n",
       "      <td>37</td>\n",
       "      <td>Private</td>\n",
       "      <td>284582</td>\n",
       "      <td>Masters</td>\n",
       "      <td>14</td>\n",
       "      <td>Married-civ-spouse</td>\n",
       "      <td>Exec-managerial</td>\n",
       "      <td>Wife</td>\n",
       "      <td>White</td>\n",
       "      <td>Female</td>\n",
       "      <td>...</td>\n",
       "      <td>0</td>\n",
       "      <td>0</td>\n",
       "      <td>0</td>\n",
       "      <td>0</td>\n",
       "      <td>1</td>\n",
       "      <td>0</td>\n",
       "      <td>0</td>\n",
       "      <td>0</td>\n",
       "      <td>1</td>\n",
       "      <td>0</td>\n",
       "    </tr>\n",
       "  </tbody>\n",
       "</table>\n",
       "<p>5 rows × 50 columns</p>\n",
       "</div>"
      ],
      "text/plain": [
       "   age         workclass  fnlwgt  education  education-num  \\\n",
       "0   50  Self-emp-not-inc   83311  Bachelors             13   \n",
       "1   38           Private  215646    HS-grad              9   \n",
       "2   53           Private  234721       11th              7   \n",
       "3   28           Private  338409  Bachelors             13   \n",
       "4   37           Private  284582    Masters             14   \n",
       "\n",
       "       marital-status         occupation   relationship   race     sex  ...   \\\n",
       "0  Married-civ-spouse    Exec-managerial        Husband  White    Male  ...    \n",
       "1            Divorced  Handlers-cleaners  Not-in-family  White    Male  ...    \n",
       "2  Married-civ-spouse  Handlers-cleaners        Husband  Black    Male  ...    \n",
       "3  Married-civ-spouse     Prof-specialty           Wife  Black  Female  ...    \n",
       "4  Married-civ-spouse    Exec-managerial           Wife  White  Female  ...    \n",
       "\n",
       "   Not-in-family  Other-relative  Own-child Unmarried  Wife  \\\n",
       "0              0               0          0         0     0   \n",
       "1              1               0          0         0     0   \n",
       "2              0               0          0         0     0   \n",
       "3              0               0          0         0     1   \n",
       "4              0               0          0         0     1   \n",
       "\n",
       "   Asian-Pac-Islander  Black  Other  White  Male  \n",
       "0                   0      0      0      1     1  \n",
       "1                   0      0      0      1     1  \n",
       "2                   0      1      0      0     1  \n",
       "3                   0      1      0      0     0  \n",
       "4                   0      0      0      1     0  \n",
       "\n",
       "[5 rows x 50 columns]"
      ]
     },
     "execution_count": 8,
     "metadata": {},
     "output_type": "execute_result"
    }
   ],
   "source": [
    "new_data.head()"
   ]
  },
  {
   "cell_type": "markdown",
   "metadata": {},
   "source": [
    "Now the dataframe have 65 columns, we need to remove all the string type columns since they are represented by the encoded columns."
   ]
  },
  {
   "cell_type": "code",
   "execution_count": 9,
   "metadata": {},
   "outputs": [],
   "source": [
    "KNN_data = new_data.drop(cat_cols, axis=1)"
   ]
  },
  {
   "cell_type": "code",
   "execution_count": 10,
   "metadata": {},
   "outputs": [
    {
     "data": {
      "text/html": [
       "<div>\n",
       "<style scoped>\n",
       "    .dataframe tbody tr th:only-of-type {\n",
       "        vertical-align: middle;\n",
       "    }\n",
       "\n",
       "    .dataframe tbody tr th {\n",
       "        vertical-align: top;\n",
       "    }\n",
       "\n",
       "    .dataframe thead th {\n",
       "        text-align: right;\n",
       "    }\n",
       "</style>\n",
       "<table border=\"1\" class=\"dataframe\">\n",
       "  <thead>\n",
       "    <tr style=\"text-align: right;\">\n",
       "      <th></th>\n",
       "      <th>age</th>\n",
       "      <th>fnlwgt</th>\n",
       "      <th>education-num</th>\n",
       "      <th>capital-gain</th>\n",
       "      <th>capital-loss</th>\n",
       "      <th>hours-per-week</th>\n",
       "      <th>target</th>\n",
       "      <th>Local-gov</th>\n",
       "      <th>Private</th>\n",
       "      <th>Self-emp-inc</th>\n",
       "      <th>...</th>\n",
       "      <th>Not-in-family</th>\n",
       "      <th>Other-relative</th>\n",
       "      <th>Own-child</th>\n",
       "      <th>Unmarried</th>\n",
       "      <th>Wife</th>\n",
       "      <th>Asian-Pac-Islander</th>\n",
       "      <th>Black</th>\n",
       "      <th>Other</th>\n",
       "      <th>White</th>\n",
       "      <th>Male</th>\n",
       "    </tr>\n",
       "  </thead>\n",
       "  <tbody>\n",
       "    <tr>\n",
       "      <th>0</th>\n",
       "      <td>50</td>\n",
       "      <td>83311</td>\n",
       "      <td>13</td>\n",
       "      <td>0</td>\n",
       "      <td>0</td>\n",
       "      <td>13</td>\n",
       "      <td>0</td>\n",
       "      <td>0</td>\n",
       "      <td>0</td>\n",
       "      <td>0</td>\n",
       "      <td>...</td>\n",
       "      <td>0</td>\n",
       "      <td>0</td>\n",
       "      <td>0</td>\n",
       "      <td>0</td>\n",
       "      <td>0</td>\n",
       "      <td>0</td>\n",
       "      <td>0</td>\n",
       "      <td>0</td>\n",
       "      <td>1</td>\n",
       "      <td>1</td>\n",
       "    </tr>\n",
       "    <tr>\n",
       "      <th>1</th>\n",
       "      <td>38</td>\n",
       "      <td>215646</td>\n",
       "      <td>9</td>\n",
       "      <td>0</td>\n",
       "      <td>0</td>\n",
       "      <td>40</td>\n",
       "      <td>0</td>\n",
       "      <td>0</td>\n",
       "      <td>1</td>\n",
       "      <td>0</td>\n",
       "      <td>...</td>\n",
       "      <td>1</td>\n",
       "      <td>0</td>\n",
       "      <td>0</td>\n",
       "      <td>0</td>\n",
       "      <td>0</td>\n",
       "      <td>0</td>\n",
       "      <td>0</td>\n",
       "      <td>0</td>\n",
       "      <td>1</td>\n",
       "      <td>1</td>\n",
       "    </tr>\n",
       "    <tr>\n",
       "      <th>2</th>\n",
       "      <td>53</td>\n",
       "      <td>234721</td>\n",
       "      <td>7</td>\n",
       "      <td>0</td>\n",
       "      <td>0</td>\n",
       "      <td>40</td>\n",
       "      <td>0</td>\n",
       "      <td>0</td>\n",
       "      <td>1</td>\n",
       "      <td>0</td>\n",
       "      <td>...</td>\n",
       "      <td>0</td>\n",
       "      <td>0</td>\n",
       "      <td>0</td>\n",
       "      <td>0</td>\n",
       "      <td>0</td>\n",
       "      <td>0</td>\n",
       "      <td>1</td>\n",
       "      <td>0</td>\n",
       "      <td>0</td>\n",
       "      <td>1</td>\n",
       "    </tr>\n",
       "    <tr>\n",
       "      <th>3</th>\n",
       "      <td>28</td>\n",
       "      <td>338409</td>\n",
       "      <td>13</td>\n",
       "      <td>0</td>\n",
       "      <td>0</td>\n",
       "      <td>40</td>\n",
       "      <td>0</td>\n",
       "      <td>0</td>\n",
       "      <td>1</td>\n",
       "      <td>0</td>\n",
       "      <td>...</td>\n",
       "      <td>0</td>\n",
       "      <td>0</td>\n",
       "      <td>0</td>\n",
       "      <td>0</td>\n",
       "      <td>1</td>\n",
       "      <td>0</td>\n",
       "      <td>1</td>\n",
       "      <td>0</td>\n",
       "      <td>0</td>\n",
       "      <td>0</td>\n",
       "    </tr>\n",
       "    <tr>\n",
       "      <th>4</th>\n",
       "      <td>37</td>\n",
       "      <td>284582</td>\n",
       "      <td>14</td>\n",
       "      <td>0</td>\n",
       "      <td>0</td>\n",
       "      <td>40</td>\n",
       "      <td>0</td>\n",
       "      <td>0</td>\n",
       "      <td>1</td>\n",
       "      <td>0</td>\n",
       "      <td>...</td>\n",
       "      <td>0</td>\n",
       "      <td>0</td>\n",
       "      <td>0</td>\n",
       "      <td>0</td>\n",
       "      <td>1</td>\n",
       "      <td>0</td>\n",
       "      <td>0</td>\n",
       "      <td>0</td>\n",
       "      <td>1</td>\n",
       "      <td>0</td>\n",
       "    </tr>\n",
       "  </tbody>\n",
       "</table>\n",
       "<p>5 rows × 42 columns</p>\n",
       "</div>"
      ],
      "text/plain": [
       "   age  fnlwgt  education-num  capital-gain  capital-loss  hours-per-week  \\\n",
       "0   50   83311             13             0             0              13   \n",
       "1   38  215646              9             0             0              40   \n",
       "2   53  234721              7             0             0              40   \n",
       "3   28  338409             13             0             0              40   \n",
       "4   37  284582             14             0             0              40   \n",
       "\n",
       "   target  Local-gov  Private  Self-emp-inc  ...   Not-in-family  \\\n",
       "0       0          0        0             0  ...               0   \n",
       "1       0          0        1             0  ...               1   \n",
       "2       0          0        1             0  ...               0   \n",
       "3       0          0        1             0  ...               0   \n",
       "4       0          0        1             0  ...               0   \n",
       "\n",
       "   Other-relative  Own-child  Unmarried  Wife  Asian-Pac-Islander  Black  \\\n",
       "0               0          0          0     0                   0      0   \n",
       "1               0          0          0     0                   0      0   \n",
       "2               0          0          0     0                   0      1   \n",
       "3               0          0          0     1                   0      1   \n",
       "4               0          0          0     1                   0      0   \n",
       "\n",
       "   Other  White  Male  \n",
       "0      0      1     1  \n",
       "1      0      1     1  \n",
       "2      0      0     1  \n",
       "3      0      0     0  \n",
       "4      0      1     0  \n",
       "\n",
       "[5 rows x 42 columns]"
      ]
     },
     "execution_count": 10,
     "metadata": {},
     "output_type": "execute_result"
    }
   ],
   "source": [
    "KNN_data.head()"
   ]
  },
  {
   "cell_type": "markdown",
   "metadata": {},
   "source": [
    "Save the KNN data frame"
   ]
  },
  {
   "cell_type": "code",
   "execution_count": 11,
   "metadata": {},
   "outputs": [],
   "source": [
    "KNN_data.to_csv('KNN_data.csv', index=False)"
   ]
  },
  {
   "cell_type": "markdown",
   "metadata": {},
   "source": [
    "<br/>"
   ]
  },
  {
   "cell_type": "markdown",
   "metadata": {},
   "source": [
    "## KNN Tain and test set "
   ]
  },
  {
   "cell_type": "markdown",
   "metadata": {},
   "source": [
    "Normalize the data set."
   ]
  },
  {
   "cell_type": "code",
   "execution_count": 12,
   "metadata": {},
   "outputs": [],
   "source": [
    "from sklearn.preprocessing import StandardScaler"
   ]
  },
  {
   "cell_type": "code",
   "execution_count": 13,
   "metadata": {},
   "outputs": [],
   "source": [
    "ss = StandardScaler()"
   ]
  },
  {
   "cell_type": "code",
   "execution_count": 14,
   "metadata": {},
   "outputs": [
    {
     "data": {
      "text/plain": [
       "StandardScaler(copy=True, with_mean=True, with_std=True)"
      ]
     },
     "execution_count": 14,
     "metadata": {},
     "output_type": "execute_result"
    }
   ],
   "source": [
    "ss.fit(KNN_data.drop('target', axis = 1))"
   ]
  },
  {
   "cell_type": "code",
   "execution_count": 15,
   "metadata": {},
   "outputs": [],
   "source": [
    "scaled_features = ss.transform(KNN_data.drop('target', axis = 1))"
   ]
  },
  {
   "cell_type": "code",
   "execution_count": 16,
   "metadata": {},
   "outputs": [
    {
     "data": {
      "text/plain": [
       "array([[ 0.880275  , -1.00790871,  1.12896095, ..., -0.0878522 ,\n",
       "         0.4038321 ,  0.69282316],\n",
       "       [-0.03333799,  0.24465878, -0.43970277, ..., -0.0878522 ,\n",
       "         0.4038321 ,  0.69282316],\n",
       "       [ 1.10867824,  0.42520607, -1.22403463, ..., -0.0878522 ,\n",
       "        -2.47627666,  0.69282316],\n",
       "       ...,\n",
       "       [ 1.48935032, -0.35861051, -0.43970277, ..., -0.0878522 ,\n",
       "         0.4038321 , -1.44336977],\n",
       "       [-1.25148865,  0.11067045, -0.43970277, ..., -0.0878522 ,\n",
       "         0.4038321 ,  0.69282316],\n",
       "       [ 1.03254383,  0.92880758, -0.43970277, ..., -0.0878522 ,\n",
       "         0.4038321 , -1.44336977]])"
      ]
     },
     "execution_count": 16,
     "metadata": {},
     "output_type": "execute_result"
    }
   ],
   "source": [
    "scaled_features"
   ]
  },
  {
   "cell_type": "code",
   "execution_count": 17,
   "metadata": {},
   "outputs": [],
   "source": [
    "df_features = pd.DataFrame(scaled_features, columns=KNN_data.drop('target', axis = 1).columns)"
   ]
  },
  {
   "cell_type": "code",
   "execution_count": 18,
   "metadata": {},
   "outputs": [
    {
     "data": {
      "text/html": [
       "<div>\n",
       "<style scoped>\n",
       "    .dataframe tbody tr th:only-of-type {\n",
       "        vertical-align: middle;\n",
       "    }\n",
       "\n",
       "    .dataframe tbody tr th {\n",
       "        vertical-align: top;\n",
       "    }\n",
       "\n",
       "    .dataframe thead th {\n",
       "        text-align: right;\n",
       "    }\n",
       "</style>\n",
       "<table border=\"1\" class=\"dataframe\">\n",
       "  <thead>\n",
       "    <tr style=\"text-align: right;\">\n",
       "      <th></th>\n",
       "      <th>age</th>\n",
       "      <th>fnlwgt</th>\n",
       "      <th>education-num</th>\n",
       "      <th>capital-gain</th>\n",
       "      <th>capital-loss</th>\n",
       "      <th>hours-per-week</th>\n",
       "      <th>Local-gov</th>\n",
       "      <th>Private</th>\n",
       "      <th>Self-emp-inc</th>\n",
       "      <th>Self-emp-not-inc</th>\n",
       "      <th>...</th>\n",
       "      <th>Not-in-family</th>\n",
       "      <th>Other-relative</th>\n",
       "      <th>Own-child</th>\n",
       "      <th>Unmarried</th>\n",
       "      <th>Wife</th>\n",
       "      <th>Asian-Pac-Islander</th>\n",
       "      <th>Black</th>\n",
       "      <th>Other</th>\n",
       "      <th>White</th>\n",
       "      <th>Male</th>\n",
       "    </tr>\n",
       "  </thead>\n",
       "  <tbody>\n",
       "    <tr>\n",
       "      <th>0</th>\n",
       "      <td>0.880275</td>\n",
       "      <td>-1.007909</td>\n",
       "      <td>1.128961</td>\n",
       "      <td>-0.147437</td>\n",
       "      <td>-0.21859</td>\n",
       "      <td>-2.331495</td>\n",
       "      <td>-0.271246</td>\n",
       "      <td>-1.682251</td>\n",
       "      <td>-0.192155</td>\n",
       "      <td>3.327045</td>\n",
       "      <td>...</td>\n",
       "      <td>-0.586782</td>\n",
       "      <td>-0.174271</td>\n",
       "      <td>-0.416903</td>\n",
       "      <td>-0.345236</td>\n",
       "      <td>-0.221124</td>\n",
       "      <td>-0.174876</td>\n",
       "      <td>-0.320968</td>\n",
       "      <td>-0.087852</td>\n",
       "      <td>0.403832</td>\n",
       "      <td>0.692823</td>\n",
       "    </tr>\n",
       "    <tr>\n",
       "      <th>1</th>\n",
       "      <td>-0.033338</td>\n",
       "      <td>0.244659</td>\n",
       "      <td>-0.439703</td>\n",
       "      <td>-0.147437</td>\n",
       "      <td>-0.21859</td>\n",
       "      <td>-0.077735</td>\n",
       "      <td>-0.271246</td>\n",
       "      <td>0.594442</td>\n",
       "      <td>-0.192155</td>\n",
       "      <td>-0.300567</td>\n",
       "      <td>...</td>\n",
       "      <td>1.704211</td>\n",
       "      <td>-0.174271</td>\n",
       "      <td>-0.416903</td>\n",
       "      <td>-0.345236</td>\n",
       "      <td>-0.221124</td>\n",
       "      <td>-0.174876</td>\n",
       "      <td>-0.320968</td>\n",
       "      <td>-0.087852</td>\n",
       "      <td>0.403832</td>\n",
       "      <td>0.692823</td>\n",
       "    </tr>\n",
       "    <tr>\n",
       "      <th>2</th>\n",
       "      <td>1.108678</td>\n",
       "      <td>0.425206</td>\n",
       "      <td>-1.224035</td>\n",
       "      <td>-0.147437</td>\n",
       "      <td>-0.21859</td>\n",
       "      <td>-0.077735</td>\n",
       "      <td>-0.271246</td>\n",
       "      <td>0.594442</td>\n",
       "      <td>-0.192155</td>\n",
       "      <td>-0.300567</td>\n",
       "      <td>...</td>\n",
       "      <td>-0.586782</td>\n",
       "      <td>-0.174271</td>\n",
       "      <td>-0.416903</td>\n",
       "      <td>-0.345236</td>\n",
       "      <td>-0.221124</td>\n",
       "      <td>-0.174876</td>\n",
       "      <td>3.115571</td>\n",
       "      <td>-0.087852</td>\n",
       "      <td>-2.476277</td>\n",
       "      <td>0.692823</td>\n",
       "    </tr>\n",
       "    <tr>\n",
       "      <th>3</th>\n",
       "      <td>-0.794682</td>\n",
       "      <td>1.406626</td>\n",
       "      <td>1.128961</td>\n",
       "      <td>-0.147437</td>\n",
       "      <td>-0.21859</td>\n",
       "      <td>-0.077735</td>\n",
       "      <td>-0.271246</td>\n",
       "      <td>0.594442</td>\n",
       "      <td>-0.192155</td>\n",
       "      <td>-0.300567</td>\n",
       "      <td>...</td>\n",
       "      <td>-0.586782</td>\n",
       "      <td>-0.174271</td>\n",
       "      <td>-0.416903</td>\n",
       "      <td>-0.345236</td>\n",
       "      <td>4.522348</td>\n",
       "      <td>-0.174876</td>\n",
       "      <td>3.115571</td>\n",
       "      <td>-0.087852</td>\n",
       "      <td>-2.476277</td>\n",
       "      <td>-1.443370</td>\n",
       "    </tr>\n",
       "    <tr>\n",
       "      <th>4</th>\n",
       "      <td>-0.109472</td>\n",
       "      <td>0.897147</td>\n",
       "      <td>1.521127</td>\n",
       "      <td>-0.147437</td>\n",
       "      <td>-0.21859</td>\n",
       "      <td>-0.077735</td>\n",
       "      <td>-0.271246</td>\n",
       "      <td>0.594442</td>\n",
       "      <td>-0.192155</td>\n",
       "      <td>-0.300567</td>\n",
       "      <td>...</td>\n",
       "      <td>-0.586782</td>\n",
       "      <td>-0.174271</td>\n",
       "      <td>-0.416903</td>\n",
       "      <td>-0.345236</td>\n",
       "      <td>4.522348</td>\n",
       "      <td>-0.174876</td>\n",
       "      <td>-0.320968</td>\n",
       "      <td>-0.087852</td>\n",
       "      <td>0.403832</td>\n",
       "      <td>-1.443370</td>\n",
       "    </tr>\n",
       "  </tbody>\n",
       "</table>\n",
       "<p>5 rows × 41 columns</p>\n",
       "</div>"
      ],
      "text/plain": [
       "        age    fnlwgt  education-num  capital-gain  capital-loss  \\\n",
       "0  0.880275 -1.007909       1.128961     -0.147437      -0.21859   \n",
       "1 -0.033338  0.244659      -0.439703     -0.147437      -0.21859   \n",
       "2  1.108678  0.425206      -1.224035     -0.147437      -0.21859   \n",
       "3 -0.794682  1.406626       1.128961     -0.147437      -0.21859   \n",
       "4 -0.109472  0.897147       1.521127     -0.147437      -0.21859   \n",
       "\n",
       "   hours-per-week  Local-gov   Private  Self-emp-inc  Self-emp-not-inc  \\\n",
       "0       -2.331495  -0.271246 -1.682251     -0.192155          3.327045   \n",
       "1       -0.077735  -0.271246  0.594442     -0.192155         -0.300567   \n",
       "2       -0.077735  -0.271246  0.594442     -0.192155         -0.300567   \n",
       "3       -0.077735  -0.271246  0.594442     -0.192155         -0.300567   \n",
       "4       -0.077735  -0.271246  0.594442     -0.192155         -0.300567   \n",
       "\n",
       "     ...     Not-in-family  Other-relative  Own-child  Unmarried      Wife  \\\n",
       "0    ...         -0.586782       -0.174271  -0.416903  -0.345236 -0.221124   \n",
       "1    ...          1.704211       -0.174271  -0.416903  -0.345236 -0.221124   \n",
       "2    ...         -0.586782       -0.174271  -0.416903  -0.345236 -0.221124   \n",
       "3    ...         -0.586782       -0.174271  -0.416903  -0.345236  4.522348   \n",
       "4    ...         -0.586782       -0.174271  -0.416903  -0.345236  4.522348   \n",
       "\n",
       "   Asian-Pac-Islander     Black     Other     White      Male  \n",
       "0           -0.174876 -0.320968 -0.087852  0.403832  0.692823  \n",
       "1           -0.174876 -0.320968 -0.087852  0.403832  0.692823  \n",
       "2           -0.174876  3.115571 -0.087852 -2.476277  0.692823  \n",
       "3           -0.174876  3.115571 -0.087852 -2.476277 -1.443370  \n",
       "4           -0.174876 -0.320968 -0.087852  0.403832 -1.443370  \n",
       "\n",
       "[5 rows x 41 columns]"
      ]
     },
     "execution_count": 18,
     "metadata": {},
     "output_type": "execute_result"
    }
   ],
   "source": [
    "df_features.head()"
   ]
  },
  {
   "cell_type": "code",
   "execution_count": null,
   "metadata": {},
   "outputs": [],
   "source": []
  },
  {
   "cell_type": "markdown",
   "metadata": {},
   "source": [
    "## train test split"
   ]
  },
  {
   "cell_type": "code",
   "execution_count": 19,
   "metadata": {},
   "outputs": [],
   "source": [
    "X = df_features\n",
    "y = KNN_data['target']\n",
    "X_train, X_test, y_train, y_test = train_test_split(X, y, test_size=0.3, random_state=42)"
   ]
  },
  {
   "cell_type": "markdown",
   "metadata": {},
   "source": [
    "## Train and find a sutable k"
   ]
  },
  {
   "cell_type": "code",
   "execution_count": 20,
   "metadata": {},
   "outputs": [],
   "source": [
    "accuracy = []\n",
    "for n in range(1,60,3):\n",
    "    classifier = KNeighborsClassifier(n_neighbors= n )\n",
    "    classifier.fit(X_train, y_train)\n",
    "    pred = classifier.predict(X_test)\n",
    "    a = 1 - np.sum(pred != y_test) / len(y_test)\n",
    "    accuracy.append(a)"
   ]
  },
  {
   "cell_type": "code",
   "execution_count": 25,
   "metadata": {},
   "outputs": [
    {
     "name": "stdout",
     "output_type": "stream",
     "text": [
      "0.8378826389656315\n",
      "25\n"
     ]
    },
    {
     "data": {
      "image/png": "[encoded data removed]",
      "text/plain": [
       "<matplotlib.figure.Figure at 0x1a17571b38>"
      ]
     },
     "metadata": {},
     "output_type": "display_data"
    }
   ],
   "source": [
    "plt.figure(figsize=(12,6))\n",
    "plt.plot(range(1,60,3),accuracy, 'k--o')   \n",
    "\n",
    "print(np.max(accuracy))\n",
    "index = accuracy.index(max(accuracy))\n",
    "print(list(range(1,60,3))[index])"
   ]
  },
  {
   "cell_type": "markdown",
   "metadata": {},
   "source": [
    "We can see that the best accuracy happens at k=25"
   ]
  },
  {
   "cell_type": "markdown",
   "metadata": {},
   "source": [
    "## Use k=52 to train and test model"
   ]
  },
  {
   "cell_type": "code",
   "execution_count": 26,
   "metadata": {},
   "outputs": [],
   "source": [
    "classifier = KNeighborsClassifier(n_neighbors= 25)\n",
    "classifier.fit(X_train, y_train)\n",
    "pred = classifier.predict(X_test)"
   ]
  },
  {
   "cell_type": "code",
   "execution_count": 27,
   "metadata": {},
   "outputs": [
    {
     "name": "stdout",
     "output_type": "stream",
     "text": [
      "[[6265  556]\n",
      " [ 911 1317]]\n"
     ]
    }
   ],
   "source": [
    "print(confusion_matrix(y_test, pred))"
   ]
  },
  {
   "cell_type": "code",
   "execution_count": 29,
   "metadata": {},
   "outputs": [
    {
     "name": "stdout",
     "output_type": "stream",
     "text": [
      "             precision    recall  f1-score   support\n",
      "\n",
      "          0       0.87      0.92      0.90      6821\n",
      "          1       0.70      0.59      0.64      2228\n",
      "\n",
      "avg / total       0.83      0.84      0.83      9049\n",
      "\n"
     ]
    }
   ],
   "source": [
    "print(classification_report(y_test, pred))"
   ]
  },
  {
   "cell_type": "markdown",
   "metadata": {},
   "source": [
    "We can see that the prediction accuracy is 83%"
   ]
  },
  {
   "cell_type": "markdown",
   "metadata": {},
   "source": [
    "## Read in the test data"
   ]
  },
  {
   "cell_type": "code",
   "execution_count": 30,
   "metadata": {},
   "outputs": [],
   "source": [
    "test_df = pd.read_csv('clean_test_data.csv')"
   ]
  },
  {
   "cell_type": "code",
   "execution_count": 31,
   "metadata": {},
   "outputs": [],
   "source": [
    "# convert test categorical data into dummy varables\n",
    "test_work = pd.get_dummies(test_df['workclass'],drop_first=True)\n",
    "#test_education = pd.get_dummies(test_df['education'],drop_first=True)\n",
    "test_marital = pd.get_dummies(test_df['marital-status'],drop_first=True)\n",
    "test_occupation = pd.get_dummies(test_df['occupation'],drop_first=True) \n",
    "test_relation = pd.get_dummies(test_df['relationship'],drop_first=True)\n",
    "test_race = pd.get_dummies(test_df['race'],drop_first=True)\n",
    "test_sex = pd.get_dummies(test_df['sex'],drop_first=True)"
   ]
  },
  {
   "cell_type": "code",
   "execution_count": 32,
   "metadata": {},
   "outputs": [],
   "source": [
    "test_new_data = pd.concat([test_df, test_work, \n",
    "                           test_marital, test_occupation, test_relation,\n",
    "                           test_race, test_sex], axis = 1)\n",
    "\n",
    "test_KNN_data = test_new_data.drop(cat_cols, axis=1)"
   ]
  },
  {
   "cell_type": "code",
   "execution_count": 33,
   "metadata": {},
   "outputs": [],
   "source": [
    "# normalized test data set features\n",
    "test_scaled_features = ss.transform(test_KNN_data.drop('target', axis = 1)) \n",
    "\n",
    "# The real result for test data set\n",
    "test_real = test_KNN_data.target     "
   ]
  },
  {
   "cell_type": "markdown",
   "metadata": {},
   "source": [
    "## Predict for the test set and compute accuracy"
   ]
  },
  {
   "cell_type": "code",
   "execution_count": 34,
   "metadata": {},
   "outputs": [],
   "source": [
    "# predict using the KNN model\n",
    "test_pred = classifier.predict(test_scaled_features)"
   ]
  },
  {
   "cell_type": "code",
   "execution_count": 35,
   "metadata": {},
   "outputs": [
    {
     "name": "stdout",
     "output_type": "stream",
     "text": [
      "             precision    recall  f1-score   support\n",
      "\n",
      "          0       0.87      0.91      0.89     11360\n",
      "          1       0.69      0.58      0.63      3700\n",
      "\n",
      "avg / total       0.82      0.83      0.83     15060\n",
      "\n"
     ]
    }
   ],
   "source": [
    "print(classification_report(test_real, test_pred))"
   ]
  },
  {
   "cell_type": "markdown",
   "metadata": {},
   "source": [
    "The prediction accuracy for test data is up to 82%"
   ]
  },
  {
   "cell_type": "code",
   "execution_count": 36,
   "metadata": {
    "scrolled": true
   },
   "outputs": [
    {
     "name": "stdout",
     "output_type": "stream",
     "text": [
      "[[10371   989]\n",
      " [ 1546  2154]]\n"
     ]
    }
   ],
   "source": [
    "print(confusion_matrix(test_real, test_pred))"
   ]
  },
  {
   "cell_type": "markdown",
   "metadata": {},
   "source": [
    "<br/>\n",
    "<br/>\n",
    "The result we get for training set is 83% and the result for test set is 82%. The results are quite close, whcih indicate the KNN modle works fine. Overfiting is not happening."
   ]
  }
 ],
 "metadata": {
  "kernelspec": {
   "display_name": "Python 3",
   "language": "python",
   "name": "python3"
  },
  "language_info": {
   "codemirror_mode": {
    "name": "ipython",
    "version": 3
   },
   "file_extension": ".py",
   "mimetype": "text/x-python",
   "name": "python",
   "nbconvert_exporter": "python",
   "pygments_lexer": "ipython3",
   "version": "3.6.4"
  }
 },
 "nbformat": 4,
 "nbformat_minor": 2
}
